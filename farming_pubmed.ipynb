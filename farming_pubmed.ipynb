{
 "cells": [
  {
   "cell_type": "code",
   "execution_count": 13,
   "metadata": {},
   "outputs": [
    {
     "ename": "ImportError",
     "evalue": "cannot import name 'load_dotenv' from 'dotenv' (c:\\Users\\Administrator\\Documents\\nlp\\.conda\\lib\\site-packages\\dotenv\\__init__.py)",
     "output_type": "error",
     "traceback": [
      "\u001b[1;31m---------------------------------------------------------------------------\u001b[0m",
      "\u001b[1;31mImportError\u001b[0m                               Traceback (most recent call last)",
      "Cell \u001b[1;32mIn[13], line 4\u001b[0m\n\u001b[0;32m      1\u001b[0m \u001b[39mimport\u001b[39;00m \u001b[39mrequests\u001b[39;00m\n\u001b[0;32m      2\u001b[0m \u001b[39mimport\u001b[39;00m \u001b[39mos\u001b[39;00m\n\u001b[1;32m----> 4\u001b[0m \u001b[39mfrom\u001b[39;00m \u001b[39mdotenv\u001b[39;00m \u001b[39mimport\u001b[39;00m load_dotenv\n\u001b[0;32m      6\u001b[0m \u001b[39mclass\u001b[39;00m \u001b[39mPubMed\u001b[39;00m():\n\u001b[0;32m      8\u001b[0m     \u001b[39mdef\u001b[39;00m \u001b[39m__init__\u001b[39m(\u001b[39mself\u001b[39m, api_key):\n",
      "\u001b[1;31mImportError\u001b[0m: cannot import name 'load_dotenv' from 'dotenv' (c:\\Users\\Administrator\\Documents\\nlp\\.conda\\lib\\site-packages\\dotenv\\__init__.py)"
     ]
    }
   ],
   "source": [
    "import requests\n",
    "import os\n",
    "\n",
    "from dotenv import load_dotenv\n",
    "\n",
    "class PubMed():\n",
    "\n",
    "    def __init__(self, api_key):\n",
    "        self.api_key = api_key\n",
    "\n",
    "    def fetch_pmids(self, query):\n",
    "        # Use esearch to get PMIDs\n",
    "        esearch_url = f\"https://eutils.ncbi.nlm.nih.gov/entrez/eutils/esearch.fcgi?db=pubmed&term={query}&retmode=json&api_key={self.api_key}\"\n",
    "        response = requests.get(esearch_url)\n",
    "        return response.json()['esearchresult']['idlist']\n",
    "\n",
    "    def fetch_abstracts(self, pmids):\n",
    "        # Use efetch to get abstracts\n",
    "        pmid_string = ','.join(pmids)\n",
    "        efetch_url = f\"https://eutils.ncbi.nlm.nih.gov/entrez/eutils/efetch.fcgi?db=pubmed&id={pmid_string}&retmode=text&rettype=abstract&api_key={self.api_key}\"\n",
    "        response = requests.get(efetch_url)\n",
    "        return response.text\n",
    "\n",
    "load_dotenv()\n",
    "api_key = os.environ.get('ncbi_api_key')\n",
    "pubmed = PubMed(api_key)\n",
    "abstracts = pubmed.fetch_abstracts(\"intelligence\")\n",
    "print(abstracts)\n"
   ]
  }
 ],
 "metadata": {
  "kernelspec": {
   "display_name": "Python 3",
   "language": "python",
   "name": "python3"
  },
  "language_info": {
   "codemirror_mode": {
    "name": "ipython",
    "version": 3
   },
   "file_extension": ".py",
   "mimetype": "text/x-python",
   "name": "python",
   "nbconvert_exporter": "python",
   "pygments_lexer": "ipython3",
   "version": "3.10.13"
  },
  "orig_nbformat": 4
 },
 "nbformat": 4,
 "nbformat_minor": 2
}
